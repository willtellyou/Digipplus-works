{
 "cells": [
  {
   "cell_type": "markdown",
   "id": "405a3703",
   "metadata": {},
   "source": [
    "# Importing Libraries"
   ]
  },
  {
   "cell_type": "code",
   "execution_count": 1,
   "id": "04d17032",
   "metadata": {},
   "outputs": [],
   "source": [
    "import gspread\n",
    "import pandas as pd\n",
    "import json\n",
    "import numpy"
   ]
  },
  {
   "cell_type": "markdown",
   "id": "c85ac811",
   "metadata": {},
   "source": [
    "# Setting up file collected from cloud console"
   ]
  },
  {
   "cell_type": "code",
   "execution_count": 2,
   "id": "23729e3b",
   "metadata": {},
   "outputs": [],
   "source": [
    "cred_file=\"healthy-seeker-350608-663a7534ff2d.json\"\n",
    "gc=gspread.service_account(cred_file)"
   ]
  },
  {
   "cell_type": "code",
   "execution_count": 3,
   "id": "07d853bc",
   "metadata": {},
   "outputs": [
    {
     "data": {
      "text/plain": [
       "<gspread.client.Client at 0x1f1b582feb0>"
      ]
     },
     "execution_count": 3,
     "metadata": {},
     "output_type": "execute_result"
    }
   ],
   "source": [
    "gc"
   ]
  },
  {
   "cell_type": "markdown",
   "id": "85ba9fc4",
   "metadata": {},
   "source": [
    "# Getting the required google sheet and its particular sheet to automate"
   ]
  },
  {
   "cell_type": "code",
   "execution_count": 4,
   "id": "d0a302a9",
   "metadata": {},
   "outputs": [],
   "source": [
    "database=gc.open(\"Internal QC\")"
   ]
  },
  {
   "cell_type": "code",
   "execution_count": 5,
   "id": "7c9a7565",
   "metadata": {},
   "outputs": [
    {
     "data": {
      "text/plain": [
       "<Spreadsheet 'Internal QC' id:1CeyrM9luCB4IWAFGDdmdCQpGRO6Tdcv-5RhR_-xD0cI>"
      ]
     },
     "execution_count": 5,
     "metadata": {},
     "output_type": "execute_result"
    }
   ],
   "source": [
    "database"
   ]
  },
  {
   "cell_type": "code",
   "execution_count": 6,
   "id": "9ce50b86",
   "metadata": {},
   "outputs": [],
   "source": [
    "wks=database.worksheet(\"Performance\")"
   ]
  },
  {
   "cell_type": "code",
   "execution_count": 7,
   "id": "c16be8ee",
   "metadata": {},
   "outputs": [
    {
     "data": {
      "text/plain": [
       "<Worksheet 'Performance' id:71616139>"
      ]
     },
     "execution_count": 7,
     "metadata": {},
     "output_type": "execute_result"
    }
   ],
   "source": [
    "wks"
   ]
  },
  {
   "cell_type": "code",
   "execution_count": 8,
   "id": "2f1a9262",
   "metadata": {},
   "outputs": [
    {
     "data": {
      "text/plain": [
       "[<Worksheet 'Worksheet' id:123860523>, <Worksheet 'Performance' id:71616139>]"
      ]
     },
     "execution_count": 8,
     "metadata": {},
     "output_type": "execute_result"
    }
   ],
   "source": [
    "list_wks=database.worksheets()\n",
    "list_wks"
   ]
  },
  {
   "cell_type": "markdown",
   "id": "75021f8d",
   "metadata": {},
   "source": [
    "# Getting all the data from google sheet and converting them into dataframe for further processing"
   ]
  },
  {
   "cell_type": "code",
   "execution_count": 9,
   "id": "af984fbb",
   "metadata": {},
   "outputs": [
    {
     "data": {
      "text/html": [
       "<div>\n",
       "<style scoped>\n",
       "    .dataframe tbody tr th:only-of-type {\n",
       "        vertical-align: middle;\n",
       "    }\n",
       "\n",
       "    .dataframe tbody tr th {\n",
       "        vertical-align: top;\n",
       "    }\n",
       "\n",
       "    .dataframe thead th {\n",
       "        text-align: right;\n",
       "    }\n",
       "</style>\n",
       "<table border=\"1\" class=\"dataframe\">\n",
       "  <thead>\n",
       "    <tr style=\"text-align: right;\">\n",
       "      <th></th>\n",
       "      <th>Name</th>\n",
       "      <th>Qty assigned</th>\n",
       "      <th>Qty submitted</th>\n",
       "      <th>Qty passed</th>\n",
       "      <th>Communication1</th>\n",
       "      <th>Approved(R)</th>\n",
       "      <th>On rework1</th>\n",
       "      <th>On rework2</th>\n",
       "      <th>Approved(SR)</th>\n",
       "      <th>Acumen(1pt)</th>\n",
       "      <th>Consistent(1pt)</th>\n",
       "      <th>Communication(1pt)</th>\n",
       "      <th>Accuracy(1pt)</th>\n",
       "    </tr>\n",
       "  </thead>\n",
       "  <tbody>\n",
       "    <tr>\n",
       "      <th>0</th>\n",
       "      <td>Annu</td>\n",
       "      <td>100</td>\n",
       "      <td>98</td>\n",
       "      <td>2</td>\n",
       "      <td>0</td>\n",
       "      <td>95</td>\n",
       "      <td>3</td>\n",
       "      <td>1</td>\n",
       "      <td>2</td>\n",
       "      <td>98.000000</td>\n",
       "      <td>98.000000</td>\n",
       "      <td>100</td>\n",
       "      <td>96.938776</td>\n",
       "    </tr>\n",
       "    <tr>\n",
       "      <th>1</th>\n",
       "      <td>Ashish</td>\n",
       "      <td>90</td>\n",
       "      <td>80</td>\n",
       "      <td>10</td>\n",
       "      <td>5</td>\n",
       "      <td>75</td>\n",
       "      <td>5</td>\n",
       "      <td>4</td>\n",
       "      <td>1</td>\n",
       "      <td>88.888889</td>\n",
       "      <td>88.888889</td>\n",
       "      <td>95</td>\n",
       "      <td>93.750000</td>\n",
       "    </tr>\n",
       "    <tr>\n",
       "      <th>2</th>\n",
       "      <td>Abhishek</td>\n",
       "      <td>80</td>\n",
       "      <td>70</td>\n",
       "      <td>10</td>\n",
       "      <td>2</td>\n",
       "      <td>60</td>\n",
       "      <td>10</td>\n",
       "      <td>6</td>\n",
       "      <td>4</td>\n",
       "      <td>87.500000</td>\n",
       "      <td>87.500000</td>\n",
       "      <td>98</td>\n",
       "      <td>85.714286</td>\n",
       "    </tr>\n",
       "    <tr>\n",
       "      <th>3</th>\n",
       "      <td>Manish</td>\n",
       "      <td>110</td>\n",
       "      <td>90</td>\n",
       "      <td>20</td>\n",
       "      <td>6</td>\n",
       "      <td>80</td>\n",
       "      <td>10</td>\n",
       "      <td>5</td>\n",
       "      <td>5</td>\n",
       "      <td>81.818182</td>\n",
       "      <td>81.818182</td>\n",
       "      <td>94</td>\n",
       "      <td>88.888889</td>\n",
       "    </tr>\n",
       "    <tr>\n",
       "      <th>4</th>\n",
       "      <td>Ankit</td>\n",
       "      <td>112</td>\n",
       "      <td>90</td>\n",
       "      <td>22</td>\n",
       "      <td>4</td>\n",
       "      <td>71</td>\n",
       "      <td>19</td>\n",
       "      <td>9</td>\n",
       "      <td>10</td>\n",
       "      <td>80.357143</td>\n",
       "      <td>80.357143</td>\n",
       "      <td>96</td>\n",
       "      <td>78.888889</td>\n",
       "    </tr>\n",
       "    <tr>\n",
       "      <th>5</th>\n",
       "      <td>Muskan</td>\n",
       "      <td>60</td>\n",
       "      <td>56</td>\n",
       "      <td>4</td>\n",
       "      <td>1</td>\n",
       "      <td>50</td>\n",
       "      <td>6</td>\n",
       "      <td>4</td>\n",
       "      <td>2</td>\n",
       "      <td>93.333333</td>\n",
       "      <td>93.333333</td>\n",
       "      <td>99</td>\n",
       "      <td>89.285714</td>\n",
       "    </tr>\n",
       "    <tr>\n",
       "      <th>6</th>\n",
       "      <td>Ayushi</td>\n",
       "      <td>67</td>\n",
       "      <td>60</td>\n",
       "      <td>7</td>\n",
       "      <td>7</td>\n",
       "      <td>50</td>\n",
       "      <td>10</td>\n",
       "      <td>5</td>\n",
       "      <td>5</td>\n",
       "      <td>89.552239</td>\n",
       "      <td>89.552239</td>\n",
       "      <td>93</td>\n",
       "      <td>83.333333</td>\n",
       "    </tr>\n",
       "    <tr>\n",
       "      <th>7</th>\n",
       "      <td>Satwika</td>\n",
       "      <td>87</td>\n",
       "      <td>80</td>\n",
       "      <td>7</td>\n",
       "      <td>5</td>\n",
       "      <td>74</td>\n",
       "      <td>6</td>\n",
       "      <td>3</td>\n",
       "      <td>3</td>\n",
       "      <td>91.954023</td>\n",
       "      <td>91.954023</td>\n",
       "      <td>95</td>\n",
       "      <td>92.500000</td>\n",
       "    </tr>\n",
       "    <tr>\n",
       "      <th>8</th>\n",
       "      <td>Akash</td>\n",
       "      <td>98</td>\n",
       "      <td>90</td>\n",
       "      <td>8</td>\n",
       "      <td>4</td>\n",
       "      <td>82</td>\n",
       "      <td>8</td>\n",
       "      <td>4</td>\n",
       "      <td>4</td>\n",
       "      <td>91.836735</td>\n",
       "      <td>91.836735</td>\n",
       "      <td>96</td>\n",
       "      <td>91.111111</td>\n",
       "    </tr>\n",
       "    <tr>\n",
       "      <th>9</th>\n",
       "      <td>Chandan</td>\n",
       "      <td>78</td>\n",
       "      <td>70</td>\n",
       "      <td>8</td>\n",
       "      <td>3</td>\n",
       "      <td>63</td>\n",
       "      <td>7</td>\n",
       "      <td>4</td>\n",
       "      <td>3</td>\n",
       "      <td>89.743590</td>\n",
       "      <td>89.743590</td>\n",
       "      <td>97</td>\n",
       "      <td>90.000000</td>\n",
       "    </tr>\n",
       "    <tr>\n",
       "      <th>10</th>\n",
       "      <td>Sweta</td>\n",
       "      <td>98</td>\n",
       "      <td>90</td>\n",
       "      <td>8</td>\n",
       "      <td>2</td>\n",
       "      <td>83</td>\n",
       "      <td>7</td>\n",
       "      <td>3</td>\n",
       "      <td>4</td>\n",
       "      <td>91.836735</td>\n",
       "      <td>91.836735</td>\n",
       "      <td>98</td>\n",
       "      <td>92.222222</td>\n",
       "    </tr>\n",
       "    <tr>\n",
       "      <th>11</th>\n",
       "      <td>Prachi</td>\n",
       "      <td>60</td>\n",
       "      <td>50</td>\n",
       "      <td>10</td>\n",
       "      <td>1</td>\n",
       "      <td>45</td>\n",
       "      <td>5</td>\n",
       "      <td>3</td>\n",
       "      <td>2</td>\n",
       "      <td>83.333333</td>\n",
       "      <td>83.333333</td>\n",
       "      <td>99</td>\n",
       "      <td>90.000000</td>\n",
       "    </tr>\n",
       "  </tbody>\n",
       "</table>\n",
       "</div>"
      ],
      "text/plain": [
       "        Name  Qty assigned  Qty submitted  Qty passed  Communication1  \\\n",
       "0       Annu           100             98           2               0   \n",
       "1     Ashish            90             80          10               5   \n",
       "2   Abhishek            80             70          10               2   \n",
       "3     Manish           110             90          20               6   \n",
       "4      Ankit           112             90          22               4   \n",
       "5     Muskan            60             56           4               1   \n",
       "6     Ayushi            67             60           7               7   \n",
       "7    Satwika            87             80           7               5   \n",
       "8      Akash            98             90           8               4   \n",
       "9    Chandan            78             70           8               3   \n",
       "10     Sweta            98             90           8               2   \n",
       "11    Prachi            60             50          10               1   \n",
       "\n",
       "    Approved(R)  On rework1  On rework2  Approved(SR)  Acumen(1pt)  \\\n",
       "0            95           3           1             2    98.000000   \n",
       "1            75           5           4             1    88.888889   \n",
       "2            60          10           6             4    87.500000   \n",
       "3            80          10           5             5    81.818182   \n",
       "4            71          19           9            10    80.357143   \n",
       "5            50           6           4             2    93.333333   \n",
       "6            50          10           5             5    89.552239   \n",
       "7            74           6           3             3    91.954023   \n",
       "8            82           8           4             4    91.836735   \n",
       "9            63           7           4             3    89.743590   \n",
       "10           83           7           3             4    91.836735   \n",
       "11           45           5           3             2    83.333333   \n",
       "\n",
       "    Consistent(1pt)  Communication(1pt)  Accuracy(1pt)  \n",
       "0         98.000000                 100      96.938776  \n",
       "1         88.888889                  95      93.750000  \n",
       "2         87.500000                  98      85.714286  \n",
       "3         81.818182                  94      88.888889  \n",
       "4         80.357143                  96      78.888889  \n",
       "5         93.333333                  99      89.285714  \n",
       "6         89.552239                  93      83.333333  \n",
       "7         91.954023                  95      92.500000  \n",
       "8         91.836735                  96      91.111111  \n",
       "9         89.743590                  97      90.000000  \n",
       "10        91.836735                  98      92.222222  \n",
       "11        83.333333                  99      90.000000  "
      ]
     },
     "execution_count": 9,
     "metadata": {},
     "output_type": "execute_result"
    }
   ],
   "source": [
    "data=pd.DataFrame(wks.get_all_records())\n",
    "data"
   ]
  },
  {
   "cell_type": "code",
   "execution_count": 10,
   "id": "3ceea2fb",
   "metadata": {},
   "outputs": [
    {
     "data": {
      "text/plain": [
       "12"
      ]
     },
     "execution_count": 10,
     "metadata": {},
     "output_type": "execute_result"
    }
   ],
   "source": [
    "Name=data.loc[:,\"Name\"]\n",
    "n=len(Name)\n",
    "n\n"
   ]
  },
  {
   "cell_type": "code",
   "execution_count": 11,
   "id": "7aa0f8f2",
   "metadata": {},
   "outputs": [],
   "source": [
    "Qty_assigned=data.loc[:,\"Qty assigned\"]\n",
    "Qty_submitted=data.loc[:,\"Qty submitted\"]\n",
    "Qty_passed=[]\n",
    "Communication_1=data.loc[:,\"Communication1\"]\n",
    "Approved_r=data.loc[:,\"Approved(R)\"]\n",
    "On_rework1=[]\n",
    "On_rework2=[]\n",
    "Approved_sr=data.loc[:,\"Approved(SR)\"]\n",
    "Acumen=[]\n",
    "Consistent=[]\n",
    "Communication=[]\n",
    "Accuracy=[]\n"
   ]
  },
  {
   "cell_type": "code",
   "execution_count": 12,
   "id": "d0875048",
   "metadata": {},
   "outputs": [],
   "source": [
    "for i in range(n):\n",
    "    Qty_passed.append(Qty_assigned[i]-Qty_submitted[i])\n",
    "    On_rework1.append(Qty_submitted[i]-Approved_r[i])\n",
    "    On_rework2.append(On_rework1[i]-Approved_sr[i])\n",
    "    Acumen.append((Qty_submitted[i]/Qty_assigned[i])*100)\n",
    "    Consistent.append(Acumen[i])\n",
    "    Communication.append(100-Communication_1[i])\n",
    "    Accuracy.append((Approved_r[i]/Qty_submitted[i])*100)"
   ]
  },
  {
   "cell_type": "markdown",
   "id": "5c04400f",
   "metadata": {},
   "source": [
    "# Automation of Quantity passed column"
   ]
  },
  {
   "cell_type": "code",
   "execution_count": 13,
   "id": "9910e508",
   "metadata": {},
   "outputs": [],
   "source": [
    "Qty_passed\n",
    "cell_values=[]"
   ]
  },
  {
   "cell_type": "code",
   "execution_count": 14,
   "id": "ac469e0b",
   "metadata": {},
   "outputs": [
    {
     "data": {
      "text/plain": [
       "{'spreadsheetId': '1CeyrM9luCB4IWAFGDdmdCQpGRO6Tdcv-5RhR_-xD0cI',\n",
       " 'updatedRange': 'Performance!D2:D114',\n",
       " 'updatedRows': 113,\n",
       " 'updatedColumns': 1,\n",
       " 'updatedCells': 113}"
      ]
     },
     "execution_count": 14,
     "metadata": {},
     "output_type": "execute_result"
    }
   ],
   "source": [
    "cell_list=wks.range('D2:D114')\n",
    "#cell_values=Qty_passed.copy()\n",
    "cell_values=[2, 10, 10, 20, 22, 4, 7, 7, 8, 8, 8,10]\n",
    "#n,val=enumerate(cell_values)\n",
    "for i,val in enumerate(cell_values):\n",
    "    cell_list[i].value=val\n",
    "wks.update_cells(cell_list)"
   ]
  },
  {
   "cell_type": "markdown",
   "id": "ef9c959a",
   "metadata": {},
   "source": [
    "# Automation of on rework 1 column"
   ]
  },
  {
   "cell_type": "code",
   "execution_count": 15,
   "id": "eaf8481b",
   "metadata": {},
   "outputs": [
    {
     "data": {
      "text/plain": [
       "[3, 5, 10, 10, 19, 6, 10, 6, 8, 7, 7, 5]"
      ]
     },
     "execution_count": 15,
     "metadata": {},
     "output_type": "execute_result"
    }
   ],
   "source": [
    "On_rework1"
   ]
  },
  {
   "cell_type": "code",
   "execution_count": 16,
   "id": "0fd7b795",
   "metadata": {},
   "outputs": [
    {
     "data": {
      "text/plain": [
       "{'spreadsheetId': '1CeyrM9luCB4IWAFGDdmdCQpGRO6Tdcv-5RhR_-xD0cI',\n",
       " 'updatedRange': 'Performance!G2:G114',\n",
       " 'updatedRows': 113,\n",
       " 'updatedColumns': 1,\n",
       " 'updatedCells': 113}"
      ]
     },
     "execution_count": 16,
     "metadata": {},
     "output_type": "execute_result"
    }
   ],
   "source": [
    "cell_list=wks.range('G2:G114')\n",
    "#cell_values=Qty_passed.copy()\n",
    "cell_values=[3, 5, 10, 10, 19, 6, 10, 6, 8, 7, 7, 5]\n",
    "#n,val=enumerate(cell_values)\n",
    "for i,val in enumerate(cell_values):\n",
    "    cell_list[i].value=val\n",
    "#    cell_list[i].value=(val)\n",
    "wks.update_cells(cell_list)"
   ]
  },
  {
   "cell_type": "markdown",
   "id": "0f1f4b4c",
   "metadata": {},
   "source": [
    "# Automation of on rework 2 column"
   ]
  },
  {
   "cell_type": "code",
   "execution_count": 17,
   "id": "793fcba1",
   "metadata": {},
   "outputs": [
    {
     "data": {
      "text/plain": [
       "[1, 4, 6, 5, 9, 4, 5, 3, 4, 4, 3, 3]"
      ]
     },
     "execution_count": 17,
     "metadata": {},
     "output_type": "execute_result"
    }
   ],
   "source": [
    "On_rework2"
   ]
  },
  {
   "cell_type": "code",
   "execution_count": 18,
   "id": "6ca77de9",
   "metadata": {},
   "outputs": [
    {
     "data": {
      "text/plain": [
       "{'spreadsheetId': '1CeyrM9luCB4IWAFGDdmdCQpGRO6Tdcv-5RhR_-xD0cI',\n",
       " 'updatedRange': 'Performance!H2:H114',\n",
       " 'updatedRows': 113,\n",
       " 'updatedColumns': 1,\n",
       " 'updatedCells': 113}"
      ]
     },
     "execution_count": 18,
     "metadata": {},
     "output_type": "execute_result"
    }
   ],
   "source": [
    "cell_list=wks.range('H2:H114')\n",
    "#cell_values=Qty_passed.copy()\n",
    "cell_values=[1, 4, 6, 5, 9, 4, 5, 3, 4, 4, 3, 3]\n",
    "#n,val=enumerate(cell_values)\n",
    "for i,val in enumerate(cell_values):\n",
    "    cell_list[i].value=val\n",
    "#    cell_list[i].value=(val)\n",
    "wks.update_cells(cell_list)"
   ]
  },
  {
   "cell_type": "markdown",
   "id": "fe8ab2a7",
   "metadata": {},
   "source": [
    "# Automation of Acumen column"
   ]
  },
  {
   "cell_type": "code",
   "execution_count": 19,
   "id": "a92990e9",
   "metadata": {},
   "outputs": [
    {
     "data": {
      "text/plain": [
       "[98.0,\n",
       " 88.88888888888889,\n",
       " 87.5,\n",
       " 81.81818181818183,\n",
       " 80.35714285714286,\n",
       " 93.33333333333333,\n",
       " 89.55223880597015,\n",
       " 91.95402298850574,\n",
       " 91.83673469387756,\n",
       " 89.74358974358975,\n",
       " 91.83673469387756,\n",
       " 83.33333333333334]"
      ]
     },
     "execution_count": 19,
     "metadata": {},
     "output_type": "execute_result"
    }
   ],
   "source": [
    "Acumen"
   ]
  },
  {
   "cell_type": "code",
   "execution_count": 20,
   "id": "2da9e851",
   "metadata": {},
   "outputs": [
    {
     "data": {
      "text/plain": [
       "{'spreadsheetId': '1CeyrM9luCB4IWAFGDdmdCQpGRO6Tdcv-5RhR_-xD0cI',\n",
       " 'updatedRange': 'Performance!J2:J114',\n",
       " 'updatedRows': 113,\n",
       " 'updatedColumns': 1,\n",
       " 'updatedCells': 113}"
      ]
     },
     "execution_count": 20,
     "metadata": {},
     "output_type": "execute_result"
    }
   ],
   "source": [
    "cell_list=wks.range('J2:J114')\n",
    "#cell_values=Qty_passed.copy()\n",
    "cell_values=[98.0,88.88888888888889,87.5,81.81818181818183,80.35714285714286,93.33333333333333,89.55223880597015, 91.95402298850574,91.83673469387756,89.74358974358975,91.83673469387756, 83.33333333333334]\n",
    "#n,val=enumerate(cell_values)\n",
    "for i,val in enumerate(cell_values):\n",
    "    cell_list[i].value=val\n",
    "#    cell_list[i].value=(val)\n",
    "wks.update_cells(cell_list)"
   ]
  },
  {
   "cell_type": "markdown",
   "id": "f93a9eea",
   "metadata": {},
   "source": [
    "# Automation of consistent column"
   ]
  },
  {
   "cell_type": "code",
   "execution_count": 21,
   "id": "dbe513a3",
   "metadata": {},
   "outputs": [
    {
     "data": {
      "text/plain": [
       "[98.0,\n",
       " 88.88888888888889,\n",
       " 87.5,\n",
       " 81.81818181818183,\n",
       " 80.35714285714286,\n",
       " 93.33333333333333,\n",
       " 89.55223880597015,\n",
       " 91.95402298850574,\n",
       " 91.83673469387756,\n",
       " 89.74358974358975,\n",
       " 91.83673469387756,\n",
       " 83.33333333333334]"
      ]
     },
     "execution_count": 21,
     "metadata": {},
     "output_type": "execute_result"
    }
   ],
   "source": [
    "Consistent"
   ]
  },
  {
   "cell_type": "code",
   "execution_count": 22,
   "id": "c30dffa2",
   "metadata": {},
   "outputs": [
    {
     "data": {
      "text/plain": [
       "{'spreadsheetId': '1CeyrM9luCB4IWAFGDdmdCQpGRO6Tdcv-5RhR_-xD0cI',\n",
       " 'updatedRange': 'Performance!K2:K14',\n",
       " 'updatedRows': 13,\n",
       " 'updatedColumns': 1,\n",
       " 'updatedCells': 13}"
      ]
     },
     "execution_count": 22,
     "metadata": {},
     "output_type": "execute_result"
    }
   ],
   "source": [
    "cell_list=wks.range('K2:K14')\n",
    "#cell_values=Qty_passed.copy()\n",
    "cell_values=[98.0,88.88888888888889, 87.5,81.81818181818183,80.35714285714286,93.33333333333333,89.55223880597015,91.95402298850574,91.83673469387756,89.74358974358975, 91.83673469387756,83.33333333333334]\n",
    "for i,val in enumerate(cell_values):\n",
    "    cell_list[i].value=val\n",
    "#    cell_list[i].value=(val)\n",
    "wks.update_cells(cell_list)"
   ]
  },
  {
   "cell_type": "markdown",
   "id": "eb3d8d3c",
   "metadata": {},
   "source": [
    "# Automation of Communication column"
   ]
  },
  {
   "cell_type": "code",
   "execution_count": 23,
   "id": "6e2ee1eb",
   "metadata": {},
   "outputs": [
    {
     "data": {
      "text/plain": [
       "[100, 95, 98, 94, 96, 99, 93, 95, 96, 97, 98, 99]"
      ]
     },
     "execution_count": 23,
     "metadata": {},
     "output_type": "execute_result"
    }
   ],
   "source": [
    "Communication"
   ]
  },
  {
   "cell_type": "code",
   "execution_count": 24,
   "id": "7647d94e",
   "metadata": {},
   "outputs": [
    {
     "data": {
      "text/plain": [
       "{'spreadsheetId': '1CeyrM9luCB4IWAFGDdmdCQpGRO6Tdcv-5RhR_-xD0cI',\n",
       " 'updatedRange': 'Performance!L2:L14',\n",
       " 'updatedRows': 13,\n",
       " 'updatedColumns': 1,\n",
       " 'updatedCells': 13}"
      ]
     },
     "execution_count": 24,
     "metadata": {},
     "output_type": "execute_result"
    }
   ],
   "source": [
    "cell_list=wks.range('L2:L14')\n",
    "#cell_values=Qty_passed.copy()\n",
    "cell_values=[100, 95, 98, 94, 96, 99, 93, 95, 96, 97, 98, 99]\n",
    "#n,val=enumerate(cell_values)\n",
    "for i,val in enumerate(cell_values):\n",
    "    cell_list[i].value=val\n",
    "#    cell_list[i].value=(val)\n",
    "wks.update_cells(cell_list)"
   ]
  },
  {
   "cell_type": "markdown",
   "id": "acff778f",
   "metadata": {},
   "source": [
    "# Automation of Accuracy column"
   ]
  },
  {
   "cell_type": "code",
   "execution_count": 25,
   "id": "622450ce",
   "metadata": {},
   "outputs": [
    {
     "data": {
      "text/plain": [
       "[96.93877551020408,\n",
       " 93.75,\n",
       " 85.71428571428571,\n",
       " 88.88888888888889,\n",
       " 78.88888888888889,\n",
       " 89.28571428571429,\n",
       " 83.33333333333334,\n",
       " 92.5,\n",
       " 91.11111111111111,\n",
       " 90.0,\n",
       " 92.22222222222223,\n",
       " 90.0]"
      ]
     },
     "execution_count": 25,
     "metadata": {},
     "output_type": "execute_result"
    }
   ],
   "source": [
    "Accuracy"
   ]
  },
  {
   "cell_type": "code",
   "execution_count": 26,
   "id": "0c738c69",
   "metadata": {},
   "outputs": [
    {
     "data": {
      "text/plain": [
       "{'spreadsheetId': '1CeyrM9luCB4IWAFGDdmdCQpGRO6Tdcv-5RhR_-xD0cI',\n",
       " 'updatedRange': 'Performance!M2:M14',\n",
       " 'updatedRows': 13,\n",
       " 'updatedColumns': 1,\n",
       " 'updatedCells': 13}"
      ]
     },
     "execution_count": 26,
     "metadata": {},
     "output_type": "execute_result"
    }
   ],
   "source": [
    "cell_list=wks.range('M2:M14')\n",
    "#cell_values=Qty_passed.copy()\n",
    "cell_values=[96.93877551020408,93.75,85.71428571428571,88.88888888888889,78.88888888888889,89.28571428571429,83.33333333333334,92.5,91.11111111111111, 90.0,92.22222222222223,90.0]\n",
    "#n,val=enumerate(cell_values)\n",
    "for i,val in enumerate(cell_values):\n",
    "    cell_list[i].value=val\n",
    "#    cell_list[i].value=(val)\n",
    "wks.update_cells(cell_list)"
   ]
  }
 ],
 "metadata": {
  "kernelspec": {
   "display_name": "Python 3 (ipykernel)",
   "language": "python",
   "name": "python3"
  },
  "language_info": {
   "codemirror_mode": {
    "name": "ipython",
    "version": 3
   },
   "file_extension": ".py",
   "mimetype": "text/x-python",
   "name": "python",
   "nbconvert_exporter": "python",
   "pygments_lexer": "ipython3",
   "version": "3.9.2"
  }
 },
 "nbformat": 4,
 "nbformat_minor": 5
}
